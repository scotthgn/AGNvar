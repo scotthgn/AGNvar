{
 "cells": [
  {
   "cell_type": "code",
   "execution_count": 10,
   "id": "bdd664a9",
   "metadata": {},
   "outputs": [
    {
     "ename": "SyntaxError",
     "evalue": "invalid syntax (<ipython-input-10-80723322931f>, line 1)",
     "output_type": "error",
     "traceback": [
      "\u001b[0;36m  File \u001b[0;32m\"<ipython-input-10-80723322931f>\"\u001b[0;36m, line \u001b[0;32m1\u001b[0m\n\u001b[0;31m    A quick tutoial using agnvar. We will be using the agnsed mode (AGNsed_var)\u001b[0m\n\u001b[0m      ^\u001b[0m\n\u001b[0;31mSyntaxError\u001b[0m\u001b[0;31m:\u001b[0m invalid syntax\n"
     ]
    }
   ],
   "source": [
    "A quick tutoial using agnvar. We will be using the agnsed mode (AGNsed_var) "
   ]
  },
  {
   "cell_type": "code",
   "execution_count": 9,
   "id": "9cfc7556",
   "metadata": {},
   "outputs": [],
   "source": [
    "#Generic imports\n",
    "import numpy as np\n",
    "import matplotlib.pyplot as plt\n",
    "\n",
    "#Adding src directory to python path - needed as agnvar uses pyNTHCOMP, this is easiest way of NOT breaking code...\n",
    "import os\n",
    "import sys\n",
    "sys.path.append(os.path.abspath('src'))\n",
    "\n",
    "#Doing example with AGNsed_var (as my preffered model) - however the syntex is same for the others too\n",
    "from agnvar import AGNsed_var"
   ]
  },
  {
   "cell_type": "code",
   "execution_count": null,
   "id": "f80f3e59",
   "metadata": {},
   "outputs": [],
   "source": []
  },
  {
   "cell_type": "code",
   "execution_count": null,
   "id": "2a37faf2",
   "metadata": {},
   "outputs": [],
   "source": []
  }
 ],
 "metadata": {
  "kernelspec": {
   "display_name": "Python 3",
   "language": "python",
   "name": "python3"
  },
  "language_info": {
   "codemirror_mode": {
    "name": "ipython",
    "version": 3
   },
   "file_extension": ".py",
   "mimetype": "text/x-python",
   "name": "python",
   "nbconvert_exporter": "python",
   "pygments_lexer": "ipython3",
   "version": "3.8.8"
  }
 },
 "nbformat": 4,
 "nbformat_minor": 5
}
